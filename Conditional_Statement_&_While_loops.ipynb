{
 "cells": [
  {
   "cell_type": "markdown",
   "id": "b1b1957b",
   "metadata": {},
   "source": [
    "# Conditional Statements"
   ]
  },
  {
   "cell_type": "markdown",
   "id": "dfe0d4e6",
   "metadata": {},
   "source": [
    "* Conditional Statement in Python perform different computations or actions depending on whether a specific Boolean constraint evaluates to true or false. Conditional statements are handled by IF statements in Python.\n"
   ]
  },
  {
   "cell_type": "markdown",
   "id": "8f6dad64",
   "metadata": {},
   "source": [
    "### Conditional statements are of 4 types:\n",
    "* if statements.\n",
    "* nested-if statements.\n",
    "* if-else statements.\n",
    "* if-elif-else statements."
   ]
  },
  {
   "cell_type": "markdown",
   "id": "d6dc442f",
   "metadata": {},
   "source": [
    "## 1. if statements :"
   ]
  },
  {
   "cell_type": "markdown",
   "id": "b71e7c51",
   "metadata": {},
   "source": [
    "* if Statement is used for decision-making operations. It contains a body of code which runs only when the condition given in the if statement is true.\n",
    "* this statements will print if the condition is true only, otherwise it exits the code loop."
   ]
  },
  {
   "cell_type": "code",
   "execution_count": 4,
   "id": "30c8d322",
   "metadata": {},
   "outputs": [
    {
     "name": "stdout",
     "output_type": "stream",
     "text": [
      "enter a marks: 85\n",
      "second round\n"
     ]
    }
   ],
   "source": [
    "marks = int(input('enter a marks: '))\n",
    "\n",
    "if marks >= 80:\n",
    "    print('second round')"
   ]
  },
  {
   "cell_type": "code",
   "execution_count": 5,
   "id": "8027bc24",
   "metadata": {},
   "outputs": [
    {
     "name": "stdout",
     "output_type": "stream",
     "text": [
      "enter a marks: 75\n"
     ]
    }
   ],
   "source": [
    "marks = int(input('enter a marks: ')) \n",
    "\n",
    "if marks >= 80:             # if the condition is false ,gives nothing\n",
    "    print('second round')"
   ]
  },
  {
   "cell_type": "markdown",
   "id": "b5cf9241",
   "metadata": {},
   "source": [
    "## 2. nested-if statements :"
   ]
  },
  {
   "cell_type": "markdown",
   "id": "9088b222",
   "metadata": {},
   "source": [
    "\n",
    "* A nested if statement is considered as if within another if statement(s).These are generally used to check for multiple conditions.\n"
   ]
  },
  {
   "cell_type": "markdown",
   "id": "5a9b4388",
   "metadata": {},
   "source": [
    "* Syntax:\n",
    "\n",
    "    * if condition1:\n",
    "         * if condition2:\n",
    "              * execute code if both condition1and condition2 are True"
   ]
  },
  {
   "cell_type": "code",
   "execution_count": 15,
   "id": "dbfaaa44",
   "metadata": {},
   "outputs": [
    {
     "name": "stdout",
     "output_type": "stream",
     "text": [
      "12\n",
      "divby 6\n"
     ]
    }
   ],
   "source": [
    "#nested if\n",
    "\n",
    "num = int(input())                #ture and false is false\n",
    "if num%3 == 0:\n",
    "    if num%2 == 0:\n",
    "        print('divby 6')"
   ]
  },
  {
   "cell_type": "code",
   "execution_count": 16,
   "id": "f5eacd5c",
   "metadata": {},
   "outputs": [
    {
     "name": "stdout",
     "output_type": "stream",
     "text": [
      "13\n"
     ]
    }
   ],
   "source": [
    "#nested if\n",
    "\n",
    "num = int(input())                #ture and false is false\n",
    "if num%3 == 0:\n",
    "    if num%2 == 0:\n",
    "        print('divby 6')"
   ]
  },
  {
   "cell_type": "markdown",
   "id": "05381e8b",
   "metadata": {},
   "source": [
    "## 3. if-else statements :"
   ]
  },
  {
   "cell_type": "markdown",
   "id": "6fc6416d",
   "metadata": {},
   "source": [
    "* if statement executes the code block when the condition is true. Similarly, the else statement works in conjuncture with the if statement to execute a code block when the defined if condition is false.\n"
   ]
  },
  {
   "cell_type": "markdown",
   "id": "de64d97e",
   "metadata": {},
   "source": [
    "* Syntax:\n",
    "\n",
    "    * if condition:\n",
    "        * execute code if condition is true\n",
    "    * else:\n",
    "        * execute code if condition if False"
   ]
  },
  {
   "cell_type": "code",
   "execution_count": 11,
   "id": "a8a6afd3",
   "metadata": {},
   "outputs": [
    {
     "name": "stdout",
     "output_type": "stream",
     "text": [
      "enter a string: gdSgv\n",
      "upper\n"
     ]
    }
   ],
   "source": [
    "x = input('enter a string: ')\n",
    "if x[2].isupper():\n",
    "    print('upper')\n",
    "else:\n",
    "    print('not upper')"
   ]
  },
  {
   "cell_type": "markdown",
   "id": "8f4e5f4a",
   "metadata": {},
   "source": [
    "## 4. if-elif-else statements :"
   ]
  },
  {
   "cell_type": "markdown",
   "id": "c9b59e2e",
   "metadata": {},
   "source": [
    "* if-elif statement is shortcut of if..else chain.While using if-elif statement at the end else block is added which is performed if none of the above if-elif statement is true."
   ]
  },
  {
   "cell_type": "markdown",
   "id": "50f58178",
   "metadata": {},
   "source": [
    "* Syntax:\n",
    "\n",
    "    * if condition1:\n",
    "         * execute this statement\n",
    "    * elif condition2:\n",
    "         * execute this statement\n",
    "    * elif condition2:\n",
    "         * execute this statement\n",
    "    * elif condition2:\n",
    "         * execute this statement\n",
    "    * else:\n",
    "         * if non of the above conditions evaluate to True execute this statement"
   ]
  },
  {
   "cell_type": "code",
   "execution_count": 9,
   "id": "f659d4fb",
   "metadata": {},
   "outputs": [
    {
     "name": "stdout",
     "output_type": "stream",
     "text": [
      "enter your marks78\n",
      "first round\n"
     ]
    }
   ],
   "source": [
    "x = int(input('enter your marks'))\n",
    "\n",
    "if x >= 80: \n",
    "    print('second round')\n",
    "elif x >=70:\n",
    "    print('first round')\n",
    "elif x >= 60:\n",
    "    print('screening round')\n",
    "else:\n",
    "    print('study hard')"
   ]
  },
  {
   "cell_type": "markdown",
   "id": "206811b0",
   "metadata": {},
   "source": [
    "# While loops"
   ]
  },
  {
   "cell_type": "markdown",
   "id": "1790d9d5",
   "metadata": {},
   "source": [
    "* While Loop is used to execute a block of statements repeatedly until a given condition is satisfied. And when the condition becomes false, the line immediately after the loop in the program is executed.\n",
    "* while loop we can execute a set of statements as long as a condition is true."
   ]
  },
  {
   "cell_type": "code",
   "execution_count": 17,
   "id": "18c71f7c",
   "metadata": {},
   "outputs": [
    {
     "name": "stdout",
     "output_type": "stream",
     "text": [
      "1\n",
      "2\n",
      "3\n",
      "4\n",
      "5\n"
     ]
    }
   ],
   "source": [
    "i = 1\n",
    "while i < 6:\n",
    "  print(i)\n",
    "  i += 1"
   ]
  },
  {
   "cell_type": "code",
   "execution_count": 18,
   "id": "4ee388b4",
   "metadata": {},
   "outputs": [
    {
     "name": "stdout",
     "output_type": "stream",
     "text": [
      "enter an integer: 10\n",
      "11\n",
      "12\n",
      "13\n",
      "14\n",
      "15\n",
      "16\n",
      "17\n",
      "18\n",
      "19\n",
      "20\n",
      "21\n"
     ]
    }
   ],
   "source": [
    "x = int(input('enter an integer: '))\n",
    "y = x+11\n",
    "while x in range(x,y):\n",
    "    x+=1\n",
    "    print(x)"
   ]
  },
  {
   "cell_type": "code",
   "execution_count": 19,
   "id": "0464b435",
   "metadata": {},
   "outputs": [
    {
     "name": "stdout",
     "output_type": "stream",
     "text": [
      "enter a num: 10\n",
      "enter a num: 30\n",
      "[10, 12, 14, 16, 18, 20, 22, 24, 26, 28]\n",
      "[11, 13, 15, 17, 19, 21, 23, 25, 27, 29]\n"
     ]
    }
   ],
   "source": [
    "a,b = int(input('enter a num: ')),int(input('enter a num: '))\n",
    "s,g = min(a,b),max(a,b)\n",
    "even,odd = [],[]\n",
    "x=s\n",
    "while x in range(s,g):\n",
    "    if x%2 == 0:\n",
    "        even.append(x)\n",
    "    else:\n",
    "        odd.append(x)\n",
    "    x+=1\n",
    "print(even, odd, sep='\\n')"
   ]
  },
  {
   "cell_type": "markdown",
   "id": "ffd682a2",
   "metadata": {},
   "source": [
    "### Pass statement :"
   ]
  },
  {
   "cell_type": "markdown",
   "id": "0df324c0",
   "metadata": {},
   "source": [
    "* The Python pass statement to write empty loops. Pass is also used for empty control statements, functions, and classes."
   ]
  },
  {
   "cell_type": "code",
   "execution_count": 23,
   "id": "1e1bf135",
   "metadata": {},
   "outputs": [
    {
     "name": "stdout",
     "output_type": "stream",
     "text": [
      "1\n",
      "2\n",
      "3\n",
      "4\n",
      "5\n",
      "6\n"
     ]
    }
   ],
   "source": [
    "i = 0\n",
    "while i < 6:\n",
    "  i += 1\n",
    "  if i == 3:\n",
    "    pass\n",
    "  print(i)"
   ]
  },
  {
   "cell_type": "markdown",
   "id": "54f9019d",
   "metadata": {},
   "source": [
    "### Continue Statement :"
   ]
  },
  {
   "cell_type": "markdown",
   "id": "8c89d894",
   "metadata": {},
   "source": [
    "* continue statement we can stop the current iteration, and continue with the next\n",
    "\n"
   ]
  },
  {
   "cell_type": "code",
   "execution_count": 20,
   "id": "72e0da39",
   "metadata": {},
   "outputs": [
    {
     "name": "stdout",
     "output_type": "stream",
     "text": [
      "1\n",
      "2\n",
      "4\n",
      "5\n",
      "6\n"
     ]
    }
   ],
   "source": [
    "i = 0\n",
    "while i < 6:\n",
    "  i += 1\n",
    "  if i == 3:\n",
    "    continue\n",
    "  print(i)"
   ]
  },
  {
   "cell_type": "code",
   "execution_count": null,
   "id": "b1f4a0d9",
   "metadata": {},
   "outputs": [],
   "source": []
  }
 ],
 "metadata": {
  "kernelspec": {
   "display_name": "Python 3 (ipykernel)",
   "language": "python",
   "name": "python3"
  },
  "language_info": {
   "codemirror_mode": {
    "name": "ipython",
    "version": 3
   },
   "file_extension": ".py",
   "mimetype": "text/x-python",
   "name": "python",
   "nbconvert_exporter": "python",
   "pygments_lexer": "ipython3",
   "version": "3.11.5"
  }
 },
 "nbformat": 4,
 "nbformat_minor": 5
}
